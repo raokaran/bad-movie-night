{
  "nbformat": 4,
  "nbformat_minor": 0,
  "metadata": {
    "colab": {
      "name": "BadMovieNight.ipynb",
      "provenance": [],
      "collapsed_sections": [],
      "include_colab_link": true
    },
    "kernelspec": {
      "name": "python3",
      "display_name": "Python 3"
    },
    "accelerator": "GPU"
  },
  "cells": [
    {
      "cell_type": "markdown",
      "metadata": {
        "id": "view-in-github",
        "colab_type": "text"
      },
      "source": [
        "<a href=\"https://colab.research.google.com/github/bwliv/columbia/blob/master/BadMovieNight.ipynb\" target=\"_parent\"><img src=\"https://colab.research.google.com/assets/colab-badge.svg\" alt=\"Open In Colab\"/></a>"
      ]
    },
    {
      "cell_type": "markdown",
      "metadata": {
        "id": "7E7cxQW8Zv4Z",
        "colab_type": "text"
      },
      "source": [
        "# **\"Bad Movie Night\":** *Cult Movie Recommendations Using Personal Variance*\n",
        "Anjani Prasad Atluri aa4462@columbia.edu GitHub: apalmk\n",
        "\n",
        "Benjamin Livingston bwl2114@columbia.edu GitHub: bwliv\n",
        "\n",
        "Karan Rao ksr2136@columbia.edu GitHub: raokaran\n",
        "\n",
        "Chengyi Chen cc4506@columbia.edu GitHub: ccysysu\n",
        "\n"
      ]
    },
    {
      "cell_type": "markdown",
      "metadata": {
        "id": "feZDrq6mXMlu",
        "colab_type": "text"
      },
      "source": [
        "# Introduction\n",
        "\n",
        "If you want to have a bad movie night, where do you look?\n",
        "\n",
        "Maybe you Google “bad movies”. Maybe you ask your friends for recommendations. But your favorite streaming service or movie website isn’t going to go out of its way to recommend a bad movie to you.\n",
        "\n",
        "But what exactly is a “bad movie”? After all, if you truly thought it was bad, you wouldn’t watch it or enjoy it. In reality, “bad movie” doesn’t always mean bad movie. Very often, it means a movie everyone else thinks is bad that a user sort of enjoys. This is akin to the concept of a “cult movie” - one that a user finds much more interesting than the general populace. \n",
        "\n",
        "That is our aim: to build a cult movie recommender that can fuel a cult movie lover’s “bad movie night”. \n",
        "\n",
        "This hearkens back to the biggest challenge of Netflix Prize models, which consistently struggled with these sorts of movies (in their case, specifically Napoleon Dynamite):\n",
        "https://kottke.org/08/11/the-netflix-prize-and-the-case-of-the-napoleon-dynamite-problem\n",
        "\n",
        "We take this to heart, and take little interest in recommending generally acclaimed movies or serving users that have mainstream tastes. We are aiming for the weird, the cheesy, the off-beat - the kind of movie you might throw on for a laugh when you have friends over. There’s definitely a market for it. On some nights, you’re more interested in going against the grain than watching a movie that got a 98% on Rotten Tomatoes. Our system is built to accomplish that.\n",
        "We initially looked at the rating distributions of movies we felt were “culty” - The Room (2003), for example – and noticed that their ratings were close to average (2.0-3.0ish), but that they had more positive ratings than expected. They also had a large number of negative ratings. To frame this mathematically, their ratings had high variance. \n",
        "\n",
        "To test this hypothesis that high-variance movies were culty, we pulled up the top ten high-variance rating movies (among those with at least 100 ratings), and these were indeed movies with a polarizing, “culty” feel to them."
      ]
    },
    {
      "cell_type": "code",
      "metadata": {
        "id": "9FY2S59rgaEC",
        "colab_type": "code",
        "colab": {}
      },
      "source": [
        "# set parameters\n",
        "\n",
        "# set k for \"top k movies recommended\"\n",
        "n_recommended = 10\n",
        "\n",
        "# set minimum number of times movie should be rated to enter set\n",
        "lowest_count = 100\n",
        "\n",
        "# set latent dimensions for matrix factorization\n",
        "uniform_rank = 5"
      ],
      "execution_count": 0,
      "outputs": []
    },
    {
      "cell_type": "code",
      "metadata": {
        "id": "PLp3wiOYXi0O",
        "colab_type": "code",
        "outputId": "c01d2c03-ddfe-4165-85e2-255c1f667d55",
        "colab": {
          "base_uri": "https://localhost:8080/",
          "height": 376
        }
      },
      "source": [
        "#Insert Top 10 High Variance Movies Here in Notebook\n",
        "from google.colab import drive\n",
        "drive.mount('/content/drive')\n",
        "\n",
        "# generate top n_recommended default recommendations\n",
        "\n",
        "import pandas as pd\n",
        "\n",
        "df = pd.read_csv('/content/drive/My Drive/MovieLens190/ratings.csv', encoding = \"ISO-8859-1\")\n",
        "movie_names = pd.read_csv('/content/drive/My Drive/MovieLens190/movies.csv', encoding = \"ISO-8859-1\")\n",
        "\n",
        "df['count'] = df.groupby(['movieId'])['rating'].transform('count')\n",
        "df = df[df['count']>=lowest_count]\n",
        "df['means'] = df.groupby(['movieId'])['rating'].transform('mean')\n",
        "df['var'] = df.groupby(['movieId'])['rating'].transform('var')\n",
        "df['ppv']=df['rating']-df['means']\n",
        "\n",
        "# get high variance movies\n",
        "df2 = df[['movieId','rating']]\n",
        "df3 = df2.groupby(['movieId']).var()\n",
        "df3 = df3.nlargest(n_recommended,'rating')\n",
        "high_var = pd.DataFrame(df3.index)\n",
        "\n",
        "movie_list = pd.merge(high_var,movie_names,how='inner',left_on=['movieId'],right_on=['movieId'])[['title']]\n",
        "movie_list\n"
      ],
      "execution_count": 0,
      "outputs": [
        {
          "output_type": "stream",
          "text": [
            "Drive already mounted at /content/drive; to attempt to forcibly remount, call drive.mount(\"/content/drive\", force_remount=True).\n"
          ],
          "name": "stdout"
        },
        {
          "output_type": "execute_result",
          "data": {
            "text/html": [
              "<div>\n",
              "<style scoped>\n",
              "    .dataframe tbody tr th:only-of-type {\n",
              "        vertical-align: middle;\n",
              "    }\n",
              "\n",
              "    .dataframe tbody tr th {\n",
              "        vertical-align: top;\n",
              "    }\n",
              "\n",
              "    .dataframe thead th {\n",
              "        text-align: right;\n",
              "    }\n",
              "</style>\n",
              "<table border=\"1\" class=\"dataframe\">\n",
              "  <thead>\n",
              "    <tr style=\"text-align: right;\">\n",
              "      <th></th>\n",
              "      <th>title</th>\n",
              "    </tr>\n",
              "  </thead>\n",
              "  <tbody>\n",
              "    <tr>\n",
              "      <th>0</th>\n",
              "      <td>Santa with Muscles (1996)</td>\n",
              "    </tr>\n",
              "    <tr>\n",
              "      <th>1</th>\n",
              "      <td>Room, The (2003)</td>\n",
              "    </tr>\n",
              "    <tr>\n",
              "      <th>2</th>\n",
              "      <td>Expelled: No Intelligence Allowed (2008)</td>\n",
              "    </tr>\n",
              "    <tr>\n",
              "      <th>3</th>\n",
              "      <td>Troll 2 (1990)</td>\n",
              "    </tr>\n",
              "    <tr>\n",
              "      <th>4</th>\n",
              "      <td>\"Great Performances\" Cats (1998)</td>\n",
              "    </tr>\n",
              "    <tr>\n",
              "      <th>5</th>\n",
              "      <td>Grateful Dead (1995)</td>\n",
              "    </tr>\n",
              "    <tr>\n",
              "      <th>6</th>\n",
              "      <td>High School Musical 3: Senior Year (2008)</td>\n",
              "    </tr>\n",
              "    <tr>\n",
              "      <th>7</th>\n",
              "      <td>Adrenalin: Fear the Rush (1996)</td>\n",
              "    </tr>\n",
              "    <tr>\n",
              "      <th>8</th>\n",
              "      <td>Nobody Loves Me (Keiner liebt mich) (1994)</td>\n",
              "    </tr>\n",
              "    <tr>\n",
              "      <th>9</th>\n",
              "      <td>Vampire in Venice (Nosferatu a Venezia) (Nosfe...</td>\n",
              "    </tr>\n",
              "  </tbody>\n",
              "</table>\n",
              "</div>"
            ],
            "text/plain": [
              "                                               title\n",
              "0                          Santa with Muscles (1996)\n",
              "1                                   Room, The (2003)\n",
              "2           Expelled: No Intelligence Allowed (2008)\n",
              "3                                     Troll 2 (1990)\n",
              "4                   \"Great Performances\" Cats (1998)\n",
              "5                               Grateful Dead (1995)\n",
              "6          High School Musical 3: Senior Year (2008)\n",
              "7                    Adrenalin: Fear the Rush (1996)\n",
              "8         Nobody Loves Me (Keiner liebt mich) (1994)\n",
              "9  Vampire in Venice (Nosferatu a Venezia) (Nosfe..."
            ]
          },
          "metadata": {
            "tags": []
          },
          "execution_count": 2
        }
      ]
    },
    {
      "cell_type": "markdown",
      "metadata": {
        "id": "NHPJ1lJzXjid",
        "colab_type": "text"
      },
      "source": [
        "With this in mind, will will proceed considering variance as a good measure of a movie's \"cultiness\".\n",
        "\n",
        "Serendipity is definitely a goal of ours here, but it's a special kind of serendipity: we want something that is novel to the user, but probably wouldn't be recommended by any sort of classic recommender system. We want recommendations that make the user raise their eyebrows, even if they’re not the best movies the user has ever seen. We're going for high-variance 3.5's, rather than 4s or 5s. We want the movie this user thinks is a 3.5-5 that most other people think is a 1-2.5, if it exists - perhaps a user’s “favorite bad movie”, if you will. Since these movies are polarizing, we’re willing to sacrifice overall accuracy for a few spot-on recommendations. We're not going for global success, we're just trying to help them discover one or two cult classic-style movies a normal recommender would be too \"afraid\" to show them in fear of poor overall KPIs.\n",
        "\n",
        "Personal Variance (PV) and Personal Positive Variance (PPV) are heuristics we defined to show how the user’s rating of a movie differed from the mean. PV is simply the user’s rating minus the mean overall rating for that movie across all users. The PPV sets the resulting negative values to 0, and it was developed based on the theory that the low ratings users have in common say less about their movie loves than the high ratings they have in common. We called it “variance” because it mirrors a movie’s overall ratings variance at a more individual level (and because we considered raising it to a hyperparameter exponent originally).\n",
        "\n",
        "#Business Concerns\n",
        "\n",
        "Our goal is to serve culty users in general. Our model certainly will not be ideal for users that will be offended by more risky recommendations – children, people who are offended by gory movies, etc. – so a business implementation would need to be cautious. This is the case with any recommender system, but certainly the case for one that makes more extreme recommendations such as this.\n",
        "\n",
        "We must acknowledge that big misses will be part of this recommender system. We will accept the risk that we will occasionally serve a movie that the user really hates. While RMSE would harshly penalize such a recommendation, we give it little thought. Our goal is to serve recommendations and have the user see one that surprises them and catches their interests, not to go 10-for-10.\n",
        "\n",
        "Would this work as a comprehensive primary recommender system? No,  probably not,because it will miss more than most recommenders and suffers from coverage issues. But it could have success as an auxiliary recommender within a streaming service, perhaps an additional carousel on the front page of Netflix served only to some users and named appropriately to encapsulate what it’s doing.\n",
        "\n",
        "\n"
      ]
    },
    {
      "cell_type": "code",
      "metadata": {
        "id": "By0h_HgXnUp6",
        "colab_type": "code",
        "outputId": "c368b6cd-3658-485a-c6a8-bc40cdb02e28",
        "colab": {
          "base_uri": "https://localhost:8080/",
          "height": 102
        }
      },
      "source": [
        "!apt-get install openjdk-8-jdk-headless -qq > /dev/null\n",
        "!wget -q http://www-eu.apache.org/dist/spark/spark-2.4.4/spark-2.4.4-bin-hadoop2.7.tgz\n",
        "!tar xf spark-2.4.4-bin-hadoop2.7.tgz\n",
        "!pip install -q findspark\n",
        "!pip install scikit-surprise"
      ],
      "execution_count": 0,
      "outputs": [
        {
          "output_type": "stream",
          "text": [
            "Requirement already satisfied: scikit-surprise in /usr/local/lib/python3.6/dist-packages (1.1.0)\n",
            "Requirement already satisfied: numpy>=1.11.2 in /usr/local/lib/python3.6/dist-packages (from scikit-surprise) (1.17.3)\n",
            "Requirement already satisfied: scipy>=1.0.0 in /usr/local/lib/python3.6/dist-packages (from scikit-surprise) (1.3.1)\n",
            "Requirement already satisfied: joblib>=0.11 in /usr/local/lib/python3.6/dist-packages (from scikit-surprise) (0.14.0)\n",
            "Requirement already satisfied: six>=1.10.0 in /usr/local/lib/python3.6/dist-packages (from scikit-surprise) (1.12.0)\n"
          ],
          "name": "stdout"
        }
      ]
    },
    {
      "cell_type": "code",
      "metadata": {
        "id": "MKvhQwSSndCK",
        "colab_type": "code",
        "colab": {}
      },
      "source": [
        "import os\n",
        "os.environ[\"JAVA_HOME\"] = \"/usr/lib/jvm/java-8-openjdk-amd64\"\n",
        "os.environ[\"SPARK_HOME\"] = \"/content/spark-2.4.4-bin-hadoop2.7\""
      ],
      "execution_count": 0,
      "outputs": []
    },
    {
      "cell_type": "code",
      "metadata": {
        "id": "ul03Ur-YnprX",
        "colab_type": "code",
        "colab": {}
      },
      "source": [
        "import findspark\n",
        "findspark.init(\"spark-2.4.4-bin-hadoop2.7\")# SPARK_HOME\n",
        "from pyspark.sql import SparkSession\n",
        "spark = SparkSession.builder.master(\"local[*]\").getOrCreate()"
      ],
      "execution_count": 0,
      "outputs": []
    },
    {
      "cell_type": "code",
      "metadata": {
        "id": "yu-tJB_zXIbF",
        "colab_type": "code",
        "outputId": "dbb50536-8a5d-4dac-8d3a-56f776eae35f",
        "colab": {
          "base_uri": "https://localhost:8080/",
          "height": 34
        }
      },
      "source": [
        "from google.colab import drive\n",
        "drive.mount('/content/drive')"
      ],
      "execution_count": 0,
      "outputs": [
        {
          "output_type": "stream",
          "text": [
            "Drive already mounted at /content/drive; to attempt to forcibly remount, call drive.mount(\"/content/drive\", force_remount=True).\n"
          ],
          "name": "stdout"
        }
      ]
    },
    {
      "cell_type": "markdown",
      "metadata": {
        "id": "CWbN-FwBYOTn",
        "colab_type": "text"
      },
      "source": [
        "# How Recommendations Are Served\n",
        "\n",
        "We will proceed with a standard of suggesting 10 movies for each user, which will remain consistent for every recommender system we implement here. Whatever a user’s 10 highest-predicted ratings or PPVs are (this will depend on the system), those will be the movies we use for our evaluation.\n",
        "\n",
        "We will then consider the holistic performance of these 10 recommendations per user across all users, viewing these recommendations as a single set of user-movie recommendations. We will judge them based on a few factors – recall (how many user-movie pairs in the test set – true positives – did we correctly predict?), the average user rating among the true positives (how much did the users like these movies that we correctly predicted they would watch?), and the average PV among those true positives (how much more did users like these movies than the average user does?).\n",
        "\n",
        "We will implement a number of models to accomplish this:\n",
        "1.       A matrix factorization model trained on integer user-movie PPV data*\n",
        "2.       A matrix factorization model trained on floating point user-movie PPV data\n",
        "3.       A matrix factorization model trained on integer user-movie PV data*\n",
        "4.       A matrix factorization model trained on floating point user-movie PV data\n",
        "5.       A matrix factorization model trained on raw user ratings\n",
        "6.       An item-item system trained on floating point PPVs\n",
        "7.       An item-item system trained on floating point PVs\n",
        "8.       An item-item system trained on floating point ratings\n",
        "9.       A system that simply recommends the top 10 high-variance movies of all time to every user uniformly\n",
        "\n",
        "*During testing, it was discovered that using integer PV/PPV values occasionally yielded better performance in matrix factorization than using floating point values, so these models were maintained for experimentation.\n",
        "\n",
        "1-5 are model-based, 6-8 are memory based, and 9 is a dummy baseline.\n",
        "\n",
        "We will compute matrix factorization using alternating least squares and item-item using cosine-similarity scores to determine k-nearest neighbors.\n",
        "\n",
        "We will run all nine of these, and judge the quality of the model based on the aforementioned true positives, average user rating among the true positives, and average personal variance among the true positives.\n",
        "\n",
        "Our baselines will be #5, #8, and #9 on this list. We will examine how using raw ratings compares to using PVs/PPVs (and critically evaluate why it performs the way it does), and we will also examine how simply suggesting the “top 10 culty movies” (by our mathematical definition) compares to serving a more personalized list of culty movies.\n"
      ]
    },
    {
      "cell_type": "markdown",
      "metadata": {
        "id": "uTiKjSNAYkDd",
        "colab_type": "text"
      },
      "source": [
        "#Subsetting\n",
        "\n",
        "We are aiming to build a recommender system for “culty” users, and for that reason we will be subsetting in a way that takes the top n percentile culty users (we will proceed with n = 10 as our default value - even a subset of this size left our algorithm needing an hour to run, whereas for n = 1 it ran in less than mere minutes, for n = 7 it ran in 23 minutes, and for n = 25, we could not run the model in a reasonable time window ... and n = 7 and n = 10 were the only ones that yielded time-efficient, steady results). \n",
        "\n",
        "We will do this subsetting by user by examining a user’s average PPV. We acknowledge that this may also result in our set of “culty” users containing serially positive users, but it will be difficult to define high-variance rating users in any way that does not integrate serially positive or negative users.\n",
        "\n",
        "We will also be removing any movie that has fewer than 100 ratings - the logic here is that movies with very few ratings will inherently be prone to higher variances that are a product of small sample size more than anything. Thus, removing these movies from the data set becomes necessary in order to ensure well-formulated predictions.\n",
        "\n",
        "Ideally, we would not perform any additional subsetting based on movies beyond this, because personalizing a cult movie list requires catering to a user’s most extreme tastes, and this is difficult to achieve across a wide swath of users if we are removing a significant number of movies from the data set. Nearly every movie has fervent devotees, so removing even slightly popular movies from the set could easily alienate users and limit our ability to serve them.\n",
        "\n",
        "However, this is infeasible, as it would create an input size that Python could not handle (we certainly tried to make it work). For this reason, we will subset movies in the most logical way for our model - by taking the top n percentile highest-variance (i.e. “cultiest”) movies among those with at least 100 ratings (our running time benchmarks above factored in this subsetting as well). This will give us the best chance of capturing extreme tastes and properly serving recommendations simultaneously.\n",
        "\n",
        "Inherently, the coverage of our approach will suffer. This will not work as a general-purpose recommender because it is designed to serve culty users (and thus will have poor user coverage) culty movies (and thus it will have poor item coverage). However, this is by design- in no way are we trying to build something that works across all users and items (as we are explicitly focusing on culty users), so coverage is a less meaningful metric for our purposes.\n"
      ]
    },
    {
      "cell_type": "code",
      "metadata": {
        "id": "CvK6sD2kddU5",
        "colab_type": "code",
        "colab": {}
      },
      "source": [
        "#Reading and subsetting the data\n",
        "import math as m\n",
        "from numpy.random import choice\n",
        "import pandas as pd\n",
        "from google.colab import drive\n",
        "from collections import defaultdict\n",
        "\n",
        "df = pd.read_csv('/content/drive/My Drive/MovieLens190/ratings.csv', encoding = \"ISO-8859-1\")\n",
        "lowest_count=100\n",
        "prop_subset=0.1\n",
        "df['means'] = df.groupby(['movieId'])['rating'].transform('mean')\n",
        "df['var'] = df.groupby(['movieId'])['rating'].transform('var')\n",
        "df['ppv']=df['rating']-df['means']\n",
        "df['count'] = df.groupby(['movieId'])['rating'].transform('count')\n",
        "df=df.loc[df['count'] >=lowest_count]\n",
        "\n",
        "# set up subsetting users by ppv\n",
        "culty_users = df[df['ppv']>0]\n",
        "cu1=culty_users.groupby('userId', as_index=False)['ppv'].mean()\n",
        "amount = m.floor(cu1.shape[0]*prop_subset)\n",
        "culty_userss = cu1.nlargest(amount,'ppv')\n",
        "cu2=culty_userss['userId'].tolist()\n",
        "final_df=df\n",
        "final_df = final_df[final_df['userId'].isin(cu2)]\n",
        "\n",
        "# set up subsetting movies by variance\n",
        "culty = final_df.groupby('movieId', as_index=False)['var'].mean()\n",
        "amount = m.floor(len(culty) * prop_subset)\n",
        "culty_movies = culty.nlargest(amount,['var'])\n",
        "cm2 = culty_movies['movieId'].tolist()\n",
        "final_df = final_df[final_df['movieId'].isin(cm2)]\n"
      ],
      "execution_count": 0,
      "outputs": []
    },
    {
      "cell_type": "markdown",
      "metadata": {
        "id": "iv7yChHzYtLW",
        "colab_type": "text"
      },
      "source": [
        "# Cross-Validation Setup\n",
        "\n",
        "We will be conducting cross-evaluation using a random train-test split, developing our recommendations based on the user-movie pairs in the training data and then evaluating them based on the user-movie pairs in the test data.\n",
        "\n",
        "The reason we are doing this randomly is that if the data is split on the time stamp, the training set is much more likely to have different users and movies from the test set, and because of this the item-item based collaborative filtering is not able to predict the scores of a lot of new items in the test set (cold start problem). We experienced this cold start problem extremely frequently during our experimentation, although those results are omitted from this main code writeup for brevity (although a summary is available in the appendix).\n",
        "\n",
        "This is a particularly large problem in our application because of the problem of movie removal that we referenced before – removing movies from the training set (something that is more likely if you train-test split by time stamp) is particularly problematic for our application. Thus, we will proceed with a completely random train-test split.\n",
        " \n"
      ]
    },
    {
      "cell_type": "code",
      "metadata": {
        "id": "oMN0EIH8yuok",
        "colab_type": "code",
        "colab": {}
      },
      "source": [
        "from sklearn.model_selection import train_test_split\n",
        "import copy\n",
        "\n",
        "min_ppv=final_df['ppv'].min()\n",
        "max_ppv=final_df['ppv'].max()\n",
        "\n",
        "train1, test1 = train_test_split(final_df, test_size=0.2)\n",
        "\n",
        "#Changing the dataframe into userId, movieId, rating (PPV) format to send it as input to Surprise libraries data structure\n",
        "fin=copy.deepcopy(final_df[['userId', 'movieId', 'ppv','rating']])\n",
        "train=copy.deepcopy(train1[['userId', 'movieId', 'ppv','rating']])\n",
        "test_set=copy.deepcopy(test1[['userId', 'movieId', 'ppv','rating']])\n",
        "train_set_ppv= train[train['ppv'] >= 0]\n",
        "train_set_pv=train"
      ],
      "execution_count": 0,
      "outputs": []
    },
    {
      "cell_type": "code",
      "metadata": {
        "id": "w-cC7k_6NGWb",
        "colab_type": "code",
        "colab": {}
      },
      "source": [
        "# helper function for spark data frames\n",
        "\n",
        "from pyspark.sql.functions import explode\n",
        "\n",
        "def movie_explode(recs):\n",
        "  df1 = recs.withColumn(\"recommendations\", explode(\"recommendations\"))\n",
        "  df2 = df1.toPandas()\n",
        "  df2['movieId'] = df2.apply(lambda row: row.recommendations[0],axis=1)\n",
        "  df2['rating'] = df2.apply(lambda row: row.recommendations[1],axis=1)\n",
        "  df2 = df2.drop('recommendations',axis=1)\n",
        "  return df2"
      ],
      "execution_count": 0,
      "outputs": []
    },
    {
      "cell_type": "code",
      "metadata": {
        "id": "PXEgzCJ9PomC",
        "colab_type": "code",
        "colab": {}
      },
      "source": [
        "# introduce baseline of recommending top n_recommend high variance movies - no NOT need to be from test set\n",
        "\n",
        "evaluate_default = pd.merge(test_set,high_var,how='inner',left_on=['movieId'],right_on=['movieId'])\n",
        "high_var_recall = evaluate_default.shape[0] / test_set.shape[0]\n",
        "high_var_rating = evaluate_default['rating'].mean()\n",
        "high_var_ppv = evaluate_default['ppv'].mean()\n",
        "high_var_default = pd.DataFrame([high_var_recall,high_var_rating,high_var_ppv]).transpose()\n",
        "high_var_default.columns = ['Recall','Mean rating','Mean PPV']"
      ],
      "execution_count": 0,
      "outputs": []
    },
    {
      "cell_type": "markdown",
      "metadata": {
        "id": "T_HgU5KPZpNG",
        "colab_type": "text"
      },
      "source": [
        "#How Hyperparameters Will Be Tuned\n",
        "\n",
        "We will consider a handful of hyperparameter levels for our two hyperparameters: number of latent dimensions for matrix factorization (5, 10, 20, 50, and 100), and neighborhood size for K-nearest neighbors (5, 15, 30, 50, 100). Each of these will be represented as a point on a line in our final line graphs, which will help us evaluate our various approaches using our metrics (we are more concerned with a model's best performance compared to other models' best performance than its performance across hyperparameters, and our graphing style will reflect this). \n"
      ]
    },
    {
      "cell_type": "code",
      "metadata": {
        "id": "vQoyB2qxpR4p",
        "colab_type": "code",
        "colab": {}
      },
      "source": [
        "from pyspark.sql import SparkSession as spark_session\n",
        "spark_session.createDataFrame\n",
        "spark.conf.set(\"spark.sql.execution.arrow.enabled\",\"true\")\n",
        "spark_train_pv = spark.createDataFrame(train_set_pv)\n",
        "spark_train_ppv = spark.createDataFrame(train_set_ppv)\n",
        "spark_test = spark.createDataFrame(test_set)"
      ],
      "execution_count": 0,
      "outputs": []
    },
    {
      "cell_type": "markdown",
      "metadata": {
        "id": "OWhPXTf1QcJP",
        "colab_type": "text"
      },
      "source": [
        "##**Matrix Factorization Models (ALS)**\n",
        "\n",
        "We will start by training and examining our matrix factorization models"
      ]
    },
    {
      "cell_type": "code",
      "metadata": {
        "id": "ugVCp9Kbov9o",
        "colab_type": "code",
        "colab": {}
      },
      "source": [
        "ppvintRows = []\n",
        "ppvfloatRows = []\n",
        "pvintRows = []\n",
        "pvfloatRows = []\n",
        "baselineRows = []\n",
        "\n",
        "from pyspark.ml.evaluation import RegressionEvaluator\n",
        "from pyspark.ml.recommendation import ALS\n",
        "from pyspark.sql import Row\n",
        "from pyspark.sql.types import IntegerType\n",
        "from pyspark.sql.types import DoubleType\n",
        "\n",
        "spark_train_pv = spark.createDataFrame(train_set_pv)\n",
        "spark_train_pv_int = spark.createDataFrame(train_set_pv)\n",
        "\n",
        "spark_train_ppv = spark.createDataFrame(train_set_ppv)\n",
        "spark_train_ppv_int = spark.createDataFrame(train_set_ppv)\n",
        "\n",
        "spark_train_ppv = spark_train_ppv.withColumn(\"userId\", spark_train_ppv[\"userId\"].cast(IntegerType()))\n",
        "spark_train_ppv = spark_train_ppv.withColumn(\"movieId\", spark_train_ppv[\"movieId\"].cast(IntegerType()))\n",
        "spark_train_ppv = spark_train_ppv.withColumn(\"ppv\", spark_train_ppv[\"ppv\"].cast(DoubleType()))\n",
        "\n",
        "spark_train_ppv_int = spark_train_ppv_int.withColumn(\"userId\", spark_train_ppv_int[\"userId\"].cast(IntegerType()))\n",
        "spark_train_ppv_int = spark_train_ppv_int.withColumn(\"movieId\", spark_train_ppv_int[\"movieId\"].cast(IntegerType()))\n",
        "spark_train_ppv_int = spark_train_ppv_int.withColumn(\"ppv\", spark_train_ppv_int[\"ppv\"].cast(IntegerType()))\n",
        "\n",
        "spark_train_pv = spark_train_pv.withColumn(\"userId\", spark_train_pv[\"userId\"].cast(IntegerType()))\n",
        "spark_train_pv = spark_train_pv.withColumn(\"movieId\", spark_train_pv[\"movieId\"].cast(IntegerType()))\n",
        "spark_train_pv = spark_train_pv.withColumn(\"ppv\", spark_train_pv[\"ppv\"].cast(DoubleType()))\n",
        "\n",
        "spark_train_pv_int = spark_train_pv_int.withColumn(\"userId\", spark_train_pv_int[\"userId\"].cast(IntegerType()))\n",
        "spark_train_pv_int = spark_train_pv_int.withColumn(\"movieId\", spark_train_pv_int[\"movieId\"].cast(IntegerType()))\n",
        "spark_train_pv_int = spark_train_pv_int.withColumn(\"ppv\", spark_train_pv_int[\"ppv\"].cast(IntegerType()))\n"
      ],
      "execution_count": 0,
      "outputs": []
    },
    {
      "cell_type": "code",
      "metadata": {
        "id": "2QQlSD3_pBIO",
        "colab_type": "code",
        "colab": {}
      },
      "source": [
        "ranks = [5, 10, 20, 50, 100]\n",
        "\n",
        "\n",
        "def evaluator(userRecs):\n",
        "  topten = movie_explode(userRecs)\n",
        "  evaluation = pd.merge(test_set,topten,how='inner',left_on=['movieId','userId'],right_on=['movieId','userId'])\n",
        "  return evaluation\n",
        "\n",
        "def evaluate_return(userRecs):\n",
        "  evalu = evaluator(userRecs)\n",
        "  #return rank (for convenience - removed), recall, mean rating, mean ppv of predictions\n",
        "  return [evalu.shape[0]/len(test_set), evalu['rating_x'].mean(), evalu['ppv'].mean()]"
      ],
      "execution_count": 0,
      "outputs": []
    },
    {
      "cell_type": "code",
      "metadata": {
        "id": "SPPXgoApoDl5",
        "colab_type": "code",
        "outputId": "cab48ea2-7198-431d-90d5-150bbd58c394",
        "colab": {
          "base_uri": "https://localhost:8080/",
          "height": 105
        }
      },
      "source": [
        "#Implement model with floating point PPV (Personal Positive Variance) transformation\n",
        "# Build the recommendation model using ALS on the training data\n",
        "for r in ranks:\n",
        "  uniform_rank = r\n",
        "  als = ALS(maxIter=5, regParam=0.01, rank = uniform_rank, userCol=\"userId\", itemCol=\"movieId\", ratingCol=\"ppv\",\n",
        "            coldStartStrategy=\"drop\")\n",
        "  model = als.fit(spark_train_ppv)\n",
        "\n",
        "  # Generate top 10 movie recommendations for each user\n",
        "  ppvfloatRecs = model.recommendForAllUsers(n_recommended)\n",
        "\n",
        "\n",
        "\n",
        "  #Implement model with integer PPV (Personal Positive Variance) transformation\n",
        "\n",
        "\n",
        "  # Build the recommendation model using ALS on the training data\n",
        "  als = ALS(maxIter=5, regParam=0.01, rank = uniform_rank, userCol=\"userId\", itemCol=\"movieId\", ratingCol=\"ppv\",\n",
        "            coldStartStrategy=\"drop\")\n",
        "  model = als.fit(spark_train_ppv_int)\n",
        "\n",
        "  # Generate top 10 movie recommendations for each user\n",
        "  ppvintRecs = model.recommendForAllUsers(n_recommended)\n",
        "\n",
        "\n",
        "  # Implement model with floating point PV (Personal Variance - can be negative!) transformation \n",
        "\n",
        "  # NOTE that this data set is different, and thus train-test split will be different for our non-negative personal variance transformation\n",
        "  als = ALS(maxIter=5, regParam=0.01, rank = uniform_rank, userCol=\"userId\", itemCol=\"movieId\", ratingCol=\"ppv\",\n",
        "            coldStartStrategy=\"drop\")\n",
        "  model = als.fit(spark_train_pv)\n",
        "  # Generate top 10 movie recommendations for each user\n",
        "  pvfloatRecs = model.recommendForAllUsers(n_recommended)\n",
        "\n",
        "\n",
        "\n",
        "  # Implement model with integer PV (Personal Variance - can be negative!) transformation \n",
        "  als = ALS(maxIter=5, regParam=0.01, rank = uniform_rank, userCol=\"userId\", itemCol=\"movieId\", ratingCol=\"ppv\",\n",
        "            coldStartStrategy=\"drop\")\n",
        "  model = als.fit(spark_train_pv_int)\n",
        "\n",
        "  # Generate top 10 movie recommendations for each user\n",
        "  pvintRecs = model.recommendForAllUsers(n_recommended)\n",
        "\n",
        "\n",
        "  # Implement model with baseline using rating to judge\n",
        "\n",
        "  # build matrix factorization model\n",
        "  als = ALS(maxIter=5, regParam=0.01, rank = uniform_rank, userCol=\"userId\", itemCol=\"movieId\", ratingCol=\"rating\",\n",
        "            coldStartStrategy=\"drop\")\n",
        "  model = als.fit(spark_train_pv)\n",
        "\n",
        "  # Generate top n_recommend movie recommendations for each user\n",
        "  baselineRecs = model.recommendForAllUsers(n_recommended)\n",
        "\n",
        "  #evaluate using metrics \n",
        "\n",
        "  row = evaluate_return(ppvintRecs)\n",
        "  ppvintRows.append(row)\n",
        "\n",
        "  row = evaluate_return(ppvfloatRecs)\n",
        "  ppvfloatRows.append(row)\n",
        "\n",
        "  row = evaluate_return(pvintRecs)\n",
        "  pvintRows.append(row)\n",
        "\n",
        "  row = evaluate_return(pvfloatRecs)\n",
        "  pvfloatRows.append(row)\n",
        "\n",
        "  row = evaluate_return(baselineRecs)\n",
        "  baselineRows.append(row)"
      ],
      "execution_count": 0,
      "outputs": [
        {
          "output_type": "stream",
          "text": [
            "spark-2.4.4-bin-hadoop2.7/python/pyspark/sql/dataframe.py:2103: UserWarning: toPandas attempted Arrow optimization because 'spark.sql.execution.arrow.enabled' is set to true; however, failed by the reason below:\n",
            "  Unsupported type in conversion to Arrow: StructType(List(StructField(movieId,IntegerType,true),StructField(rating,FloatType,true)))\n",
            "Attempting non-optimization as 'spark.sql.execution.arrow.fallback.enabled' is set to true.\n",
            "  warnings.warn(msg)\n"
          ],
          "name": "stderr"
        }
      ]
    },
    {
      "cell_type": "code",
      "metadata": {
        "id": "tP1nGQDBsLKQ",
        "colab_type": "code",
        "colab": {}
      },
      "source": [
        "ppvFloatALS = pd.DataFrame.from_records(ppvfloatRows, columns = ['Recall', 'Mean rating', 'Mean PPV'])\n",
        "ppvIntALS = pd.DataFrame.from_records(ppvintRows, columns = ['Recall', 'Mean rating', 'Mean PPV'])\n",
        "pvFloatALS = pd.DataFrame.from_records(pvfloatRows, columns = ['Recall', 'Mean rating', 'Mean PPV'])\n",
        "pvIntALS = pd.DataFrame.from_records(pvintRows, columns = ['Recall', 'Mean rating', 'Mean PPV'])\n",
        "baselineALS = pd.DataFrame.from_records(baselineRows, columns = ['Recall', 'Mean rating', 'Mean PPV'])"
      ],
      "execution_count": 0,
      "outputs": []
    },
    {
      "cell_type": "markdown",
      "metadata": {
        "id": "KEm2RRy7_xPQ",
        "colab_type": "text"
      },
      "source": [
        "## **Item-Item based recommendation**"
      ]
    },
    {
      "cell_type": "markdown",
      "metadata": {
        "id": "pSGaXLMgGycS",
        "colab_type": "text"
      },
      "source": [
        "*For the cosine similarity calculation, the surprise library imputes the NA values to zeros, which we were told was okay in class.*"
      ]
    },
    {
      "cell_type": "code",
      "metadata": {
        "id": "e8GJAA-n_86T",
        "colab_type": "code",
        "colab": {}
      },
      "source": [
        "#reshaping data as per the requirements of the package\n",
        "fin=copy.deepcopy(fin[['userId', 'movieId', 'ppv']])\n",
        "ratings_train=copy.deepcopy(train[['userId', 'movieId','rating']])\n",
        "train=copy.deepcopy(train[['userId', 'movieId', 'ppv']])\n",
        "test = copy.deepcopy(test_set[['userId', 'movieId', 'ppv']])\n",
        "train_set_ppv= train_set_ppv[['userId', 'movieId', 'ppv']]\n",
        "train_set_pv=train"
      ],
      "execution_count": 0,
      "outputs": []
    },
    {
      "cell_type": "code",
      "metadata": {
        "id": "s2SWSyfRD27f",
        "colab_type": "code",
        "outputId": "278539cd-e6a3-4359-e17e-dc6aeb519e0d",
        "colab": {
          "base_uri": "https://localhost:8080/",
          "height": 68
        }
      },
      "source": [
        "#Finding cosine similarity matrix for PPVs based model\n",
        "\n",
        "import pandas as pd\n",
        "from surprise import KNNBasic\n",
        "from surprise import Dataset\n",
        "from surprise import Reader\n",
        "\n",
        "# The reader of dataframe has to know the minimum and maximum values that can be taken by the ppv column\n",
        "reader = Reader(rating_scale=(min_ppv, max_ppv))\n",
        "\n",
        "data=Dataset.load_from_df(fin,reader)\n",
        "\n",
        "ppv_train_data = Dataset.load_from_df(train_set_ppv, reader)\n",
        "\n",
        "ppv_trainset = data.construct_trainset(ppv_train_data.raw_ratings)\n",
        "\n",
        "#Taking cosine similarity, doing item based filtering\n",
        "similarity_options = {'name': 'cosine',\n",
        "               'user_based': False \n",
        "               }\n",
        "\n",
        "#>>Note: For the distance calculation, the NAs are getting impuned to 0s, when we made a custom similarity calculation for vectors, it was taking too long to run, impuning the NAs\n",
        "#to zeros is making the libraries do vector dot products, making the model run faster. Since there will not be a lot of difference after impuning to 0s.\n",
        "\n",
        "#Parameter K is the no of neighbours being considered, min_k is incase we dont have k neighbours who many minimum should we consider\n",
        "Knnobject = KNNBasic(k=5, min_k=5, sim_options=similarity_options, verbose=True)\n",
        "\n",
        "#This will learn the simialrity matrix and get the K nearest neighbours for each user\n",
        "Knnobject.fit(ppv_trainset)"
      ],
      "execution_count": 0,
      "outputs": [
        {
          "output_type": "stream",
          "text": [
            "Computing the cosine similarity matrix...\n",
            "Done computing similarity matrix.\n"
          ],
          "name": "stdout"
        },
        {
          "output_type": "execute_result",
          "data": {
            "text/plain": [
              "<surprise.prediction_algorithms.knns.KNNBasic at 0x7fd4611cad30>"
            ]
          },
          "metadata": {
            "tags": []
          },
          "execution_count": 17
        }
      ]
    },
    {
      "cell_type": "code",
      "metadata": {
        "id": "a7vwCNLRG3FH",
        "colab_type": "code",
        "outputId": "241316e6-b6e6-4f1f-ff25-20665ddea63c",
        "colab": {
          "base_uri": "https://localhost:8080/",
          "height": 68
        }
      },
      "source": [
        "#Finding cosine similarity matrix for PVs based model\n",
        "\n",
        "pv_train_data = Dataset.load_from_df(train_set_pv, reader)\n",
        "pv_trainset = data.construct_trainset(pv_train_data.raw_ratings)\n",
        "\n",
        "Knnobject1 = KNNBasic(k=10, min_k=5, sim_options=similarity_options, verbose=True)\n",
        "\n",
        "Knnobject1.fit(pv_trainset)"
      ],
      "execution_count": 0,
      "outputs": [
        {
          "output_type": "stream",
          "text": [
            "Computing the cosine similarity matrix...\n",
            "Done computing similarity matrix.\n"
          ],
          "name": "stdout"
        },
        {
          "output_type": "execute_result",
          "data": {
            "text/plain": [
              "<surprise.prediction_algorithms.knns.KNNBasic at 0x7fd46161a048>"
            ]
          },
          "metadata": {
            "tags": []
          },
          "execution_count": 18
        }
      ]
    },
    {
      "cell_type": "code",
      "metadata": {
        "id": "gVV28bGjG-uq",
        "colab_type": "code",
        "outputId": "2a6ac86c-10b1-4395-e58f-710ffc07590c",
        "colab": {
          "base_uri": "https://localhost:8080/",
          "height": 68
        }
      },
      "source": [
        "#Doing it for baseline of using ratings instead of PPVs or PVs\n",
        "\n",
        "ratings_train_data = Dataset.load_from_df(ratings_train, reader)\n",
        "ratings_trainset = data.construct_trainset(ratings_train_data.raw_ratings)\n",
        "\n",
        "Knnobject2 = KNNBasic(k=10, min_k=5, sim_options=similarity_options, verbose=True)\n",
        "\n",
        "Knnobject2.fit(ratings_trainset)"
      ],
      "execution_count": 0,
      "outputs": [
        {
          "output_type": "stream",
          "text": [
            "Computing the cosine similarity matrix...\n",
            "Done computing similarity matrix.\n"
          ],
          "name": "stdout"
        },
        {
          "output_type": "execute_result",
          "data": {
            "text/plain": [
              "<surprise.prediction_algorithms.knns.KNNBasic at 0x7fd46120e8d0>"
            ]
          },
          "metadata": {
            "tags": []
          },
          "execution_count": 19
        }
      ]
    },
    {
      "cell_type": "code",
      "metadata": {
        "id": "wg4jpS7qHOuc",
        "colab_type": "code",
        "colab": {}
      },
      "source": [
        "#This module will calculate the estimated ratings for all the users in the test set v/s all the movies in the test set\n",
        "def manual_predict_func(modelobject):\n",
        "  dat1=[]\n",
        "\n",
        "  users = test['userId'].unique()\n",
        "  movies=test['movieId'].unique()\n",
        "\n",
        "  for u in users:\n",
        "    for m in movies:\n",
        "      #Predict function will output the estimated scores of the user item pair based on the similarities the model learnt from the training set\n",
        "      pre=modelobject.predict(u,m)\n",
        "      if pre.details['was_impossible']:\n",
        "        #cold start condition giving -ve rating so that it won't be recommended easily\n",
        "        dat1.append([u,m,-10])\n",
        "      else:\n",
        "        dat1.append([u,m,pre.est])\n",
        "\n",
        "  dffi = pd.DataFrame(dat1, columns=['userId', 'movieId', 'rating'])\n",
        "  return dffi"
      ],
      "execution_count": 0,
      "outputs": []
    },
    {
      "cell_type": "code",
      "metadata": {
        "id": "FyC3g_DtHRJu",
        "colab_type": "code",
        "colab": {}
      },
      "source": [
        "#Getting predicitions for PPV\n",
        "predictions1=manual_predict_func(Knnobject)\n",
        "\n",
        "#Getting predicitons for PVs\n",
        "predictions2=manual_predict_func(Knnobject1)\n",
        "\n",
        "#Getting predicitons for raw ratings\n",
        "predictions3=manual_predict_func(Knnobject2)"
      ],
      "execution_count": 0,
      "outputs": []
    },
    {
      "cell_type": "code",
      "metadata": {
        "id": "jXA4o0dQHfyc",
        "colab_type": "code",
        "colab": {}
      },
      "source": [
        "#Getting top 10 recomendations for each users using PPV\n",
        "grouped = predictions1.groupby('userId')\n",
        "\n",
        "new_df = pd.DataFrame([], columns = predictions1.columns)\n",
        "\n",
        "for key, values in grouped:\n",
        "\n",
        "    new_df = pd.concat([new_df, grouped.get_group(key).sort_values('rating', ascending=False)[:10]], 0)\n",
        "\n",
        "#Getting top 10 reccomendations for each users using PV\n",
        "grouped1 = predictions2.groupby('userId')\n",
        "\n",
        "new_df1 = pd.DataFrame([], columns = predictions2.columns)\n",
        "\n",
        "for key, values in grouped1:\n",
        "\n",
        "    new_df1 = pd.concat([new_df1, grouped1.get_group(key).sort_values('rating', ascending=False)[:10]], 0)\n",
        "\n",
        "#Getting top 10 reccomendations for each users raw reccomendations\n",
        "grouped2 = predictions3.groupby('userId')\n",
        "\n",
        "new_df2 = pd.DataFrame([], columns = predictions3.columns)\n",
        "\n",
        "for key, values in grouped2:\n",
        "\n",
        "    new_df2 = pd.concat([new_df2, grouped2.get_group(key).sort_values('rating', ascending=False)[:10]], 0)\n"
      ],
      "execution_count": 0,
      "outputs": []
    },
    {
      "cell_type": "code",
      "metadata": {
        "id": "B01GmpCEHiEr",
        "colab_type": "code",
        "colab": {}
      },
      "source": [
        "#reusable function version of the above code\n",
        "def getTop10(dff):\n",
        "  grouped = dff.groupby('userId')\n",
        "\n",
        "  new_df2 = pd.DataFrame([], columns = dff.columns)\n",
        "\n",
        "  for key, values in grouped:\n",
        "\n",
        "    new_df2 = pd.concat([new_df2, grouped.get_group(key).sort_values('rating', ascending=False)[:10]], 0)\n",
        "\n",
        "  return new_df2"
      ],
      "execution_count": 0,
      "outputs": []
    },
    {
      "cell_type": "code",
      "metadata": {
        "id": "jVseXQa3HlJ_",
        "colab_type": "code",
        "colab": {}
      },
      "source": [
        "#Evaluation Functions\n",
        "\n",
        "def evaluator1(userRecs):\n",
        "  evaluation = pd.merge(test_set,userRecs,how='inner',left_on=['movieId','userId'],right_on=['movieId','userId'])\n",
        "  return evaluation\n",
        "\n",
        "def evaluate1(userRecs):\n",
        "  eval = evaluator1(userRecs)"
      ],
      "execution_count": 0,
      "outputs": []
    },
    {
      "cell_type": "code",
      "metadata": {
        "id": "t-VuZRjqIRC_",
        "colab_type": "code",
        "colab": {}
      },
      "source": [
        "#Evaluating our models\n",
        "evaluate1(new_df)\n",
        "evaluate1(new_df1)\n",
        "evaluate1(new_df2)"
      ],
      "execution_count": 0,
      "outputs": []
    },
    {
      "cell_type": "code",
      "metadata": {
        "id": "giKQpYT6IC6f",
        "colab_type": "code",
        "colab": {}
      },
      "source": [
        "#Reusable version of evaluations that returns mean ppv, mean ratings, recall as a list \n",
        "def re_use_evaluate(userRecs):\n",
        "  eval = evaluator1(userRecs)\n",
        "  return [eval['ppv'].mean(),eval['rating_x'].mean(), (eval.shape[0]/len(test_set))]"
      ],
      "execution_count": 0,
      "outputs": []
    },
    {
      "cell_type": "markdown",
      "metadata": {
        "id": "2NXjzHMMI2vD",
        "colab_type": "text"
      },
      "source": [
        "**Checking for different values of Hyperparameters**\n",
        "<br>\n",
        "We opted not to looping through one function for the various neighborhood sizes, as the previous values of the Knnobject are would get used from cache instead of new values, thus producing the old results."
      ]
    },
    {
      "cell_type": "code",
      "metadata": {
        "id": "b8_HPO-EI4bD",
        "colab_type": "code",
        "outputId": "2fe5dba6-6b9b-494a-b102-a78cb3208ad0",
        "colab": {
          "base_uri": "https://localhost:8080/",
          "height": 527
        }
      },
      "source": [
        "#For neighbourhood size of 5 for PV based model\n",
        "\n",
        "train_data5pv= Dataset.load_from_df(train_set_pv,reader)\n",
        "trainset5pv= data.construct_trainset(train_data5pv.raw_ratings)\n",
        "Knnobject5pv= KNNBasic(k=5, min_k=5, sim_options=similarity_options, verbose=True)\n",
        "Knnobject5pv.fit(trainset5pv)\n",
        "pred5pv=manual_predict_func(Knnobject5pv)\n",
        "df5pv=getTop10(pred5pv)\n",
        "l5pv=re_use_evaluate(df5pv)\n",
        "\n",
        "#For neighbourhood size of 5 for PPV based model\n",
        "\n",
        "train_data5ppv= Dataset.load_from_df(train_set_ppv,reader)\n",
        "trainset5ppv= data.construct_trainset(train_data5ppv.raw_ratings)\n",
        "Knnobject5ppv= KNNBasic(k=5, min_k=5, sim_options=similarity_options, verbose=True)\n",
        "Knnobject5ppv.fit(trainset5ppv)\n",
        "pred5ppv=manual_predict_func(Knnobject5ppv)\n",
        "df5ppv=getTop10(pred5ppv)\n",
        "l5ppv=re_use_evaluate(df5ppv)\n",
        "\n",
        "#For neighbourhood size of 5 for ratings based baseline model\n",
        "\n",
        "train_data5r= Dataset.load_from_df(ratings_train,reader)\n",
        "trainset5r= data.construct_trainset(train_data5r.raw_ratings)\n",
        "Knnobject5r= KNNBasic(k=5, min_k=5, sim_options=similarity_options, verbose=True)\n",
        "Knnobject5r.fit(trainset5r)\n",
        "pred5r=manual_predict_func(Knnobject5r)\n",
        "df5r=getTop10(pred5r)\n",
        "l5r=re_use_evaluate(df5r)\n",
        "\n",
        "#For neighbourhood size of 15 for PV based model\n",
        "\n",
        "train_data15pv= Dataset.load_from_df(train_set_pv,reader)\n",
        "trainset15pv= data.construct_trainset(train_data15pv.raw_ratings)\n",
        "Knnobject15pv= KNNBasic(k=15, min_k=5, sim_options=similarity_options, verbose=True)\n",
        "Knnobject15pv.fit(trainset15pv)\n",
        "pred15pv=manual_predict_func(Knnobject15pv)\n",
        "df15pv=getTop10(pred15pv)\n",
        "l15pv=re_use_evaluate(df15pv)\n",
        "\n",
        "#For neighbourhood size of 15 for PPV based model\n",
        "\n",
        "train_data15ppv= Dataset.load_from_df(train_set_ppv,reader)\n",
        "trainset15ppv= data.construct_trainset(train_data15ppv.raw_ratings)\n",
        "Knnobject15ppv= KNNBasic(k=15, min_k=5, sim_options=similarity_options, verbose=True)\n",
        "Knnobject15ppv.fit(trainset15ppv)\n",
        "pred15ppv=manual_predict_func(Knnobject15ppv)\n",
        "df15ppv=getTop10(pred15ppv)\n",
        "l15ppv=re_use_evaluate(df15ppv)\n",
        "\n",
        "#For neighbourhood size of 15 for ratings based baseline model\n",
        "\n",
        "train_data15r= Dataset.load_from_df(ratings_train,reader)\n",
        "trainset15r= data.construct_trainset(train_data15r.raw_ratings)\n",
        "Knnobject15r= KNNBasic(k=15, min_k=5, sim_options=similarity_options, verbose=True)\n",
        "Knnobject15r.fit(trainset15r)\n",
        "pred15r=manual_predict_func(Knnobject15r)\n",
        "df15r=getTop10(pred15r)\n",
        "l15r=re_use_evaluate(df15r)\n",
        "\n",
        "#For neighbourhood size of 30 for PV based model\n",
        "\n",
        "train_data30pv= Dataset.load_from_df(train_set_pv,reader)\n",
        "trainset30pv= data.construct_trainset(train_data30pv.raw_ratings)\n",
        "Knnobject30pv= KNNBasic(k=30, min_k=5, sim_options=similarity_options, verbose=True)\n",
        "Knnobject30pv.fit(trainset30pv)\n",
        "pred30pv=manual_predict_func(Knnobject30pv)\n",
        "df30pv=getTop10(pred30pv)\n",
        "l30pv=re_use_evaluate(df30pv)\n",
        "\n",
        "#For neighbourhood size of 30 for PPV based model\n",
        "\n",
        "train_data30ppv= Dataset.load_from_df(train_set_ppv,reader)\n",
        "trainset30ppv= data.construct_trainset(train_data30ppv.raw_ratings)\n",
        "Knnobject30ppv= KNNBasic(k=30, min_k=5, sim_options=similarity_options, verbose=True)\n",
        "Knnobject30ppv.fit(trainset30ppv)\n",
        "pred30ppv=manual_predict_func(Knnobject30ppv)\n",
        "df30ppv=getTop10(pred30ppv)\n",
        "l30ppv=re_use_evaluate(df30ppv)\n",
        "\n",
        "#For neighbourhood size of 30 for ratings based baseline model\n",
        "\n",
        "train_data30r= Dataset.load_from_df(ratings_train,reader)\n",
        "trainset30r= data.construct_trainset(train_data30r.raw_ratings)\n",
        "Knnobject30r= KNNBasic(k=30, min_k=5, sim_options=similarity_options, verbose=True)\n",
        "Knnobject30r.fit(trainset30r)\n",
        "pred30r=manual_predict_func(Knnobject30r)\n",
        "df30r=getTop10(pred30r)\n",
        "l30r=re_use_evaluate(df30r)\n",
        "\n",
        "#For neighbourhood size of 50 for PV based model\n",
        "\n",
        "train_data50pv= Dataset.load_from_df(train_set_pv,reader)\n",
        "trainset50pv= data.construct_trainset(train_data50pv.raw_ratings)\n",
        "Knnobject50pv= KNNBasic(k=50, min_k=5, sim_options=similarity_options, verbose=True)\n",
        "Knnobject50pv.fit(trainset50pv)\n",
        "pred50pv=manual_predict_func(Knnobject50pv)\n",
        "df50pv=getTop10(pred50pv)\n",
        "l50pv=re_use_evaluate(df50pv)\n",
        "\n",
        "#For neighbourhood size of 50 for PPV based model\n",
        "\n",
        "train_data50ppv= Dataset.load_from_df(train_set_ppv,reader)\n",
        "trainset50ppv= data.construct_trainset(train_data50ppv.raw_ratings)\n",
        "Knnobject50ppv= KNNBasic(k=50, min_k=5, sim_options=similarity_options, verbose=True)\n",
        "Knnobject50ppv.fit(trainset50ppv)\n",
        "pred50ppv=manual_predict_func(Knnobject50ppv)\n",
        "df50ppv=getTop10(pred50ppv)\n",
        "l50ppv=re_use_evaluate(df50ppv)\n",
        "\n",
        "#For neighbourhood size of 50 for ratings based baseline model\n",
        "\n",
        "train_data50r= Dataset.load_from_df(ratings_train,reader)\n",
        "trainset50r= data.construct_trainset(train_data50r.raw_ratings)\n",
        "Knnobject50r= KNNBasic(k=50, min_k=5, sim_options=similarity_options, verbose=True)\n",
        "Knnobject50r.fit(trainset50r)\n",
        "pred50r=manual_predict_func(Knnobject50r)\n",
        "df50r=getTop10(pred50r)\n",
        "l50r=re_use_evaluate(df50r)\n",
        "\n",
        "#For neighbourhood size of 100 for PV based model\n",
        "\n",
        "train_data100pv= Dataset.load_from_df(train_set_pv,reader)\n",
        "trainset100pv= data.construct_trainset(train_data100pv.raw_ratings)\n",
        "Knnobject100pv= KNNBasic(k=100, min_k=5, sim_options=similarity_options, verbose=True)\n",
        "Knnobject100pv.fit(trainset100pv)\n",
        "pred100pv=manual_predict_func(Knnobject100pv)\n",
        "df100pv=getTop10(pred100pv)\n",
        "l100pv=re_use_evaluate(df100pv)\n",
        "\n",
        "#For neighbourhood size of 100 for PPV based model\n",
        "\n",
        "train_data100ppv= Dataset.load_from_df(train_set_ppv,reader)\n",
        "trainset100ppv= data.construct_trainset(train_data100ppv.raw_ratings)\n",
        "Knnobject100ppv= KNNBasic(k=100, min_k=5, sim_options=similarity_options, verbose=True)\n",
        "Knnobject100ppv.fit(trainset100ppv)\n",
        "pred100ppv=manual_predict_func(Knnobject100ppv)\n",
        "df100ppv=getTop10(pred100ppv)\n",
        "l100ppv=re_use_evaluate(df100ppv)\n",
        "\n",
        "#For neighbourhood size of 100 for ratings based baseline model\n",
        "\n",
        "train_data100r= Dataset.load_from_df(ratings_train,reader)\n",
        "trainset100r= data.construct_trainset(train_data100r.raw_ratings)\n",
        "Knnobject100r= KNNBasic(k=100, min_k=5, sim_options=similarity_options, verbose=True)\n",
        "Knnobject100r.fit(trainset100r)\n",
        "pred100r=manual_predict_func(Knnobject100r)\n",
        "df100r=getTop10(pred100r)\n",
        "l100r=re_use_evaluate(df100r)\n"
      ],
      "execution_count": 0,
      "outputs": [
        {
          "output_type": "stream",
          "text": [
            "Computing the cosine similarity matrix...\n",
            "Done computing similarity matrix.\n",
            "Computing the cosine similarity matrix...\n",
            "Done computing similarity matrix.\n",
            "Computing the cosine similarity matrix...\n",
            "Done computing similarity matrix.\n",
            "Computing the cosine similarity matrix...\n",
            "Done computing similarity matrix.\n",
            "Computing the cosine similarity matrix...\n",
            "Done computing similarity matrix.\n",
            "Computing the cosine similarity matrix...\n",
            "Done computing similarity matrix.\n",
            "Computing the cosine similarity matrix...\n",
            "Done computing similarity matrix.\n",
            "Computing the cosine similarity matrix...\n",
            "Done computing similarity matrix.\n",
            "Computing the cosine similarity matrix...\n",
            "Done computing similarity matrix.\n",
            "Computing the cosine similarity matrix...\n",
            "Done computing similarity matrix.\n",
            "Computing the cosine similarity matrix...\n",
            "Done computing similarity matrix.\n",
            "Computing the cosine similarity matrix...\n",
            "Done computing similarity matrix.\n",
            "Computing the cosine similarity matrix...\n",
            "Done computing similarity matrix.\n",
            "Computing the cosine similarity matrix...\n",
            "Done computing similarity matrix.\n",
            "Computing the cosine similarity matrix...\n",
            "Done computing similarity matrix.\n"
          ],
          "name": "stdout"
        }
      ]
    },
    {
      "cell_type": "code",
      "metadata": {
        "id": "GogeFRUFJcM3",
        "colab_type": "code",
        "colab": {}
      },
      "source": [
        "#Saving these values as a dataframes\n",
        "import pandas as pd\n",
        "lppv=[]\n",
        "lppv.append(l5ppv)\n",
        "lppv.append(l15ppv)\n",
        "lppv.append(l30ppv)\n",
        "lppv.append(l50ppv)\n",
        "lppv.append(l100ppv)\n",
        "\n",
        "ppv_itemitem=pd.DataFrame(lppv,columns=['Mean PPV','Mean rating','Recall'])\n",
        "\n",
        "lpv=[]\n",
        "lpv.append(l5pv)\n",
        "lpv.append(l15pv)\n",
        "lpv.append(l30pv)\n",
        "lpv.append(l50pv)\n",
        "lpv.append(l100pv)\n",
        "\n",
        "pv_itemitem=pd.DataFrame(lpv,columns=['Mean PPV','Mean rating','Recall'])\n",
        "\n",
        "lr=[]\n",
        "lr.append(l5r)\n",
        "lr.append(l15r)\n",
        "lr.append(l30r)\n",
        "lr.append(l50r)\n",
        "lr.append(l100r)\n",
        "\n",
        "ratings_itemitem=pd.DataFrame(lr,columns=['Mean PPV','Mean rating','Recall'])"
      ],
      "execution_count": 0,
      "outputs": []
    },
    {
      "cell_type": "markdown",
      "metadata": {
        "id": "lKzgpqvbxr9z",
        "colab_type": "text"
      },
      "source": [
        "#Evaluating Recommendations\n",
        "\n",
        "In order to easily evaluate all of our systems in parallel across all recommender types (model-based, memory-based, and baseline high-variance recommendations) with minimal ambiguity, we will be plotting the metrics for all of them together on single graphs. Rather than representing hyperparameter levels on axes, we will represent metric levels (recall, mean user rating of movies service, and mean PPV of movies served) on the axes. \n",
        "\n",
        "*We were told in class that making adjustments to our plotting and metric style to fit our means was acceptable, and we have kept that in mind here. That being the case, we have taken some liberty with the representation of our results in an effort to allow them to be easy-to-understand for the reader, and properly evaluate our model's performance in regards to our goals.*\n",
        "\n",
        "Each system will receive its own line (or a point in the case of our hyperparameter-free high-variance movies baseline), with each point corresponding to a tested hyperparameter level. There are more complex graphing techniques available, but we are aiming for simplicity. \n",
        "\n",
        "On our graphs, the simplest way to evaluate the success of a model will be to ask this: how close is the point to the upper right-hand corner? If one of our systems gets close to the right-hand corner in a graph, that is a sign that it is succeeding based on our metrics.\n",
        "\n",
        "We will place the highest priority on PPV, which is our primary measurement: how a user likes a movie compared to the pack. We will care next most about recall, which gives us an idea of how well we are predicting users' tastes. We will place the least emphasis on straight ratings, because while we certainly don't want to serve users movies they hate, we are less concerned with giving them movies they rate a 5 than giving them movies they like more than most other people do."
      ]
    },
    {
      "cell_type": "code",
      "metadata": {
        "id": "o82JPccfoBqV",
        "colab_type": "code",
        "colab": {}
      },
      "source": [
        "import matplotlib.pyplot as plt\n",
        "als = []\n",
        "als.append(baselineALS)\n",
        "als.append(ppvFloatALS)\n",
        "als.append(ppvIntALS)\n",
        "als.append(pvFloatALS)\n",
        "als.append(pvIntALS)\n",
        "als.append(high_var_default)\n",
        "als.append(ppv_itemitem)\n",
        "als.append(pv_itemitem)\n",
        "als.append(ratings_itemitem)\n",
        "plt.style.use('seaborn-darkgrid')\n",
        "palette = plt.get_cmap('Set3')\n",
        "l = ['baselineALS','ppvFloatALS','ppvIntALS','pvFloatALS','pvIntALS','high_var_def','ppv_itemitem','pv_itemitem','ratings_itemitem']"
      ],
      "execution_count": 0,
      "outputs": []
    },
    {
      "cell_type": "code",
      "metadata": {
        "id": "Q8TN3l0fp_UK",
        "colab_type": "code",
        "outputId": "390a5715-8063-4128-f0b1-49f19442d49c",
        "colab": {
          "base_uri": "https://localhost:8080/",
          "height": 385
        }
      },
      "source": [
        "##Plot Recall VS Mean rating\n",
        "num = -1\n",
        "fig=plt.figure(figsize=(8, 6))\n",
        "for i in als:\n",
        "    num+=1\n",
        "    plt.plot(i['Recall'], i['Mean rating'], marker='o', color=palette(num), linewidth=1, alpha=0.9,label = l[num])\n",
        "    plt.legend(loc=2, ncol=2)\n",
        "plt.xlabel(\"Recall\")\n",
        "\n",
        "plt.ylabel(\"Mean rating\")\n",
        "leg = plt.legend( loc = 'lower right')"
      ],
      "execution_count": 0,
      "outputs": [
        {
          "output_type": "display_data",
          "data": {
            "image/png": "[encoded data removed]",
            "text/plain": [
              "<Figure size 576x432 with 1 Axes>"
            ]
          },
          "metadata": {
            "tags": []
          }
        }
      ]
    },
    {
      "cell_type": "markdown",
      "metadata": {
        "id": "wcs7qQhaeXdf",
        "colab_type": "text"
      },
      "source": [
        "We begin by looking at each system's peformance based on recall and the mean rating of the movies suggested.\n",
        "\n",
        "Clearly, matrix factorization trained on raw ratings rules the day here, but other forms of matrix factorization trained on PVs and PPVs are not far behind in terms of both recall and mean rating, which we will keep in mind as we move forward. We also note that all improve massively with proper tuning.\n",
        "\n",
        "Every iteration of item-item lags in recall for all tested neighborhood sizes and none excels in terms of mean rating, and the baseline of suggesting the top ten high variance movies (the single orange point) doesn't fare much better."
      ]
    },
    {
      "cell_type": "code",
      "metadata": {
        "id": "v-deJGTDqGwV",
        "colab_type": "code",
        "outputId": "37eda22d-bbc1-4930-a4ee-39fcc5b2eb94",
        "colab": {
          "base_uri": "https://localhost:8080/",
          "height": 402
        }
      },
      "source": [
        "##Plot Mean rating VS Mean PPV\n",
        "num = -1\n",
        "fig=plt.figure(figsize=(8, 6))\n",
        "for i in als:\n",
        "    num+=1\n",
        "    plt.plot(i['Mean rating'], i['Mean PPV'], marker='o', color=palette(num), linewidth=1, alpha=0.9,label = l[num])\n",
        "    plt.legend(loc=2, ncol=2)\n",
        "plt.xlabel(\"Mean rating\")\n",
        "plt.ylabel(\"Mean PPV\")\n",
        "plt.legend(loc = 'best')"
      ],
      "execution_count": 0,
      "outputs": [
        {
          "output_type": "execute_result",
          "data": {
            "text/plain": [
              "<matplotlib.legend.Legend at 0x7fd42a39bbe0>"
            ]
          },
          "metadata": {
            "tags": []
          },
          "execution_count": 31
        },
        {
          "output_type": "display_data",
          "data": {
            "image/png": "[encoded data removed]",
            "text/plain": [
              "<Figure size 576x432 with 1 Axes>"
            ]
          },
          "metadata": {
            "tags": []
          }
        }
      ]
    },
    {
      "cell_type": "markdown",
      "metadata": {
        "id": "mGOqpLWRfkEj",
        "colab_type": "text"
      },
      "source": [
        "Here, the x-axis represents how much users like these movies, and the y-axis represents how much more the users like these movies than the average user.\n",
        "\n",
        "Of course, there is a strong positive correlation, and we see that the impact of hyperparameter tuning ranges from minimal to massive.\n",
        "\n",
        "There is no question here that personal variance performs best in optimizing recommendations for movies the user will like *and* like much more than everyone else likes them. Item-item and the top ten high-variance movies again lag, and the personal positive variance models perform well, but not quite as well as personal variance.\n",
        "\n",
        "We also note that matrix factorization trained on ratings doesn't yield high user ratings all that much better than matrix factorization performed with personal variance. Combine that with the fact that personal variance yields a much higher PPV value (i.e. recommendations that the user likes even more compared to the crowd), and we can argue that the personal variance model is the best here."
      ]
    },
    {
      "cell_type": "code",
      "metadata": {
        "id": "zllBXtT_qQqR",
        "colab_type": "code",
        "outputId": "e70b7c61-19be-4304-8cee-14dd2051acbd",
        "colab": {
          "base_uri": "https://localhost:8080/",
          "height": 402
        }
      },
      "source": [
        "##Plot Mean PPV VS Recall\n",
        "num = -1\n",
        "fig=plt.figure(figsize=(8, 6))\n",
        "for i in als:\n",
        "    num+=1\n",
        "    plt.plot(i['Mean PPV'], i['Recall'], marker='o', color=palette(num), linewidth=1, alpha=0.9,label = l[num])\n",
        "    plt.legend(loc=2, ncol=2)\n",
        "plt.xlabel(\"Mean PPV\")\n",
        "plt.ylabel(\"Recall\")\n",
        "plt.legend(loc = 'best')"
      ],
      "execution_count": 0,
      "outputs": [
        {
          "output_type": "execute_result",
          "data": {
            "text/plain": [
              "<matplotlib.legend.Legend at 0x7fd4492cb588>"
            ]
          },
          "metadata": {
            "tags": []
          },
          "execution_count": 32
        },
        {
          "output_type": "display_data",
          "data": {
            "image/png": "[encoded data removed]",
            "text/plain": [
              "<Figure size 576x432 with 1 Axes>"
            ]
          },
          "metadata": {
            "tags": []
          }
        }
      ]
    },
    {
      "cell_type": "markdown",
      "metadata": {
        "id": "7QQ1IJz1hIFY",
        "colab_type": "text"
      },
      "source": [
        "In our final graph, we compare PPV and recall, asking how much more our users liked their recommendation than the average user would have, and seeing how accurate our predictions of what users would watch were.\n",
        "\n",
        "This graph is somewhat less conclusive than the prior two graphs, but it's again clear that all of the matrix factorization models excel again (although the winner between the five of them isn't clear).\n",
        "\n",
        "It seems that we have zeroed in on a matrix factorization model trained on personal variance, and we again see a strong (upper right-hand corner) performance here."
      ]
    },
    {
      "cell_type": "markdown",
      "metadata": {
        "id": "jRJQ4BBVTtU2",
        "colab_type": "text"
      },
      "source": [
        "# Conclusions\n",
        "\n",
        "From these results, we can clearly see that matrix factorization using raw ratings is the best way to make high-rating recommendations. However, we note that this runs counter to our goal, which was never to simply serve the highest-recommended movies. It's no surprise that the best overall predictions came by using raw rating, but we want to place special focus on predictors that serve high PPV movies and excel in recall. Again, our goal is not to serve the best movies, but make specialized recommendations that the user is apt to enjoy much more than the rest of the pack. \n",
        "\n",
        "Overall, it seems clear that matrix factorization won a decisive bout over item-item and our high-variance movie baseline, and within the matrix factorization models, the one trained on positive variance best fit our goals. \n",
        "\n",
        "(We also note that a similar (although somewhat more convoluted) pattern was evident with our smaller n = 7 (a.k.a. 7% or .07) subset, the graphs for which are included in our appendix. One common trend worth noting among all the models was that the performance slightly decreased across all metrics with an increased subset size. For an n = 1 (a.k.a. 1% or .01) subset, our metrics- and thus plot- were so all-over-the-place and convoluted that they were of no use.)\n",
        "\n",
        "In short, we have a very simple, but profound result. We found that not only can we predict what movies a user will enjoy more than the pack, but we can do so without making massive sacrifices in the overall quality of our recommendations. This model did a very solid job of finding movies that the user liked more than other users, and at worst performed only slightly worse than a ratings-trained model in other areas. \n",
        "\n",
        "That being the case, we can conclude that matrix factorization trained on personal variance does a solid job of predicting movies a user will enjoy more than an average user *and* enjoy overall, and could be an ideal prototype for our stated goal of a supplemental, occasionally-served carousel for culty users on a streaming site."
      ]
    },
    {
      "cell_type": "markdown",
      "metadata": {
        "id": "Gi-Rt0qOKJ4x",
        "colab_type": "text"
      },
      "source": [
        "#**Appendix/Reference**\n",
        "\n",
        "#A Note On Standardization\n",
        "\n",
        "Users have different rating systems - some skew high or low, some could be balanced or skewed on both sides without much in the middle. A 2.5 on one scale could be a 4 on another, which is something our metrics of PV and PPV can’t handle. Two users might both like the same movie, but their PVs could have different signs. A method called decoupling normalization (involving the technique of halfway accumulative distribution) was shown to outperform the Gaussian norm for normalizing user ratings.* It depends on each user-item pair and finds the probability that a user likes a movie (i.e. if their rating is truly positive) given their rating distribution. If a user gives a rating r to an item R:\n",
        "\n",
        "p(R is favored) = p(Rating≤r)− p(Rating= r)/2\n",
        "\n",
        "...where each probability is for that particular user’s rating distribution. What fraction of their ratings is less than r, and what fraction is equal to it? The logic behind this is that if most of a user’s ratings are below r, r is likely a positive rating category. But if the user rates a large number of movies r, then that’s less likely to be the case.\n",
        "\n",
        "This probability was multiplied by 5 to put it on the same scale as the average ratings. But we noticed its values were a fair bit lower (average ratings are at least 0.5, while probabilities can be 0), so we added a simple correction of +0.5 and found PVs and PPVs with them.\n",
        "\n",
        "We found that this particular heuristic did not particularly improve the performance of our approach, so for the purpose of brevity we will exclude this user rating standardization from our analysis.\n",
        "\n",
        "*https://www.cs.purdue.edu/homes/lsi/sigir04-cf-norm.pdf\n",
        "\n",
        "R. Jin, L. Si, and C.X. Zhai, Collaborative Filtering with Decoupled Models for Preferences and Ratings, in Proc. Of the 12th Conference on Information and Knowledge Management (CIKM 2003), 20\n",
        "\n",
        "A Study of Methods for Normalizing User Ratings in Collaborative Filtering, Rong Jin and Luo Si\n",
        "\n",
        "These segments of code tried to account for user bias with decoupling normalization - their output is omitted due to running time constraints (these were not further optimized as they were dropped from our analysis)."
      ]
    },
    {
      "cell_type": "code",
      "metadata": {
        "id": "eyZAfEOVJfFd",
        "colab_type": "code",
        "outputId": "ebd230ba-90a5-4ad1-f22a-10cce5234789",
        "colab": {
          "base_uri": "https://localhost:8080/",
          "height": 54
        }
      },
      "source": [
        "\"\"\"\n",
        "# Implement model taking user bias (due to personal rating systems) into account\n",
        "# took 417 seconds or ~7 minutes\n",
        "\n",
        "from collections import Counter\n",
        "df = train_set_pv\n",
        "\n",
        "user_rate_dist = pd.DataFrame(columns = ['userId', '0.5', '1.0', '1.5', '2.0', '2.5', '3.0', '3.5', '4.0', '4.5', '5.0'])\n",
        "user_ids = df.userId.unique()\n",
        "user_rate_dist['userId'] = user_ids\n",
        "\n",
        "counts = {}\n",
        "\n",
        "def present(dict_key):\n",
        "  if dict_key in counts.keys():\n",
        "    return counts[dict_key]\n",
        "  else:\n",
        "    return 0\n",
        "\n",
        "for i, u in enumerate(user_ids):\n",
        "  u_ratings = list(df[df['userId'] == u]['rating'])\n",
        "  #print(Counter(u_ratings))\n",
        "  counts = dict(Counter(u_ratings))\n",
        "  \n",
        "  user_rate_dist.iloc[i] = pd.Series({'userId':u, '0.5':present(0.5), '1.0':present(1.0), \\\n",
        "                              '1.5':present(1.5), '2.0':present(2.0), '2.5':present(2.5), \\\n",
        "                              '3.0':present(3.0), '3.5':present(3.5), '4.0':present(4.0), \\\n",
        "                              '4.5':present(4.5), '5.0':present(5.0)})\n",
        "\"\"\""
      ],
      "execution_count": 0,
      "outputs": [
        {
          "output_type": "execute_result",
          "data": {
            "text/plain": [
              "\"\\n# Implement model taking user bias (due to personal rating systems) into account\\n# took 417 seconds or ~7 minutes\\n\\nfrom collections import Counter\\ndf = train_set_pv\\n\\nuser_rate_dist = pd.DataFrame(columns = ['userId', '0.5', '1.0', '1.5', '2.0', '2.5', '3.0', '3.5', '4.0', '4.5', '5.0'])\\nuser_ids = df.userId.unique()\\nuser_rate_dist['userId'] = user_ids\\n\\ncounts = {}\\n\\ndef present(dict_key):\\n  if dict_key in counts.keys():\\n    return counts[dict_key]\\n  else:\\n    return 0\\n\\nfor i, u in enumerate(user_ids):\\n  u_ratings = list(df[df['userId'] == u]['rating'])\\n  #print(Counter(u_ratings))\\n  counts = dict(Counter(u_ratings))\\n  \\n  user_rate_dist.iloc[i] = pd.Series({'userId':u, '0.5':present(0.5), '1.0':present(1.0),                               '1.5':present(1.5), '2.0':present(2.0), '2.5':present(2.5),                               '3.0':present(3.0), '3.5':present(3.5), '4.0':present(4.0),                               '4.5':present(4.5), '5.0':present(5.0)})\\n\""
            ]
          },
          "metadata": {
            "tags": []
          },
          "execution_count": 33
        }
      ]
    },
    {
      "cell_type": "code",
      "metadata": {
        "id": "pPQThsptKQzk",
        "colab_type": "code",
        "outputId": "624d10bf-1ae3-4928-cffa-d9ceae7405d3",
        "colab": {
          "base_uri": "https://localhost:8080/",
          "height": 54
        }
      },
      "source": [
        "\"\"\"\n",
        "# took 2193.658s or 36-37 minutes\n",
        "import numpy as np\n",
        "df = train_set_pv\n",
        "df[\"like_prob\"] = np.nan\n",
        "df[\"prob_ppv\"] = np.nan\n",
        "for index, row in df.iterrows():\n",
        "  rating = row['rating']\n",
        "  user = row['userId']\n",
        "  rating_dist = user_rate_dist.loc[user_rate_dist['userId'] == user]\n",
        "  #print(rating_dist)\n",
        "  cumul_rat = 0 #total number of ratings less than or equal to the one for the current item\n",
        "  columns = list(user_rate_dist.columns.values)[1:]\n",
        "  for c in columns:\n",
        "    if(rating >= float(c)):\n",
        "      cumul_rat += rating_dist.iloc[0][c]\n",
        "\n",
        "  total_count = sum(list(rating_dist.iloc[0])[1:]) #total number of ratings for that user\n",
        "  rating_count = rating_dist.iloc[0][str(rating)] #number of ratings in current class\n",
        "  decoup = (cumul_rat/total_count) - (rating_count/(2*total_count))\n",
        "  df.ix[index, 'like_prob'] = decoup\n",
        "  df.ix[index, 'prob_ppv'] = min(decoup*5+0.5, 5) - df.ix[index, 'means']\n",
        "\"\"\""
      ],
      "execution_count": 0,
      "outputs": [
        {
          "output_type": "execute_result",
          "data": {
            "text/plain": [
              "'\\n# took 2193.658s or 36-37 minutes\\nimport numpy as np\\ndf = train_set_pv\\ndf[\"like_prob\"] = np.nan\\ndf[\"prob_ppv\"] = np.nan\\nfor index, row in df.iterrows():\\n  rating = row[\\'rating\\']\\n  user = row[\\'userId\\']\\n  rating_dist = user_rate_dist.loc[user_rate_dist[\\'userId\\'] == user]\\n  #print(rating_dist)\\n  cumul_rat = 0 #total number of ratings less than or equal to the one for the current item\\n  columns = list(user_rate_dist.columns.values)[1:]\\n  for c in columns:\\n    if(rating >= float(c)):\\n      cumul_rat += rating_dist.iloc[0][c]\\n\\n  total_count = sum(list(rating_dist.iloc[0])[1:]) #total number of ratings for that user\\n  rating_count = rating_dist.iloc[0][str(rating)] #number of ratings in current class\\n  decoup = (cumul_rat/total_count) - (rating_count/(2*total_count))\\n  df.ix[index, \\'like_prob\\'] = decoup\\n  df.ix[index, \\'prob_ppv\\'] = min(decoup*5+0.5, 5) - df.ix[index, \\'means\\']\\n'"
            ]
          },
          "metadata": {
            "tags": []
          },
          "execution_count": 34
        }
      ]
    },
    {
      "cell_type": "code",
      "metadata": {
        "id": "mVtgCWy0KzRf",
        "colab_type": "code",
        "outputId": "aa14f610-be3a-46f6-ae42-2e89bede8adc",
        "colab": {
          "base_uri": "https://localhost:8080/",
          "height": 54
        }
      },
      "source": [
        "\"\"\"\n",
        "# took 14s\n",
        "from pyspark.ml.evaluation import RegressionEvaluator\n",
        "from pyspark.ml.recommendation import ALS\n",
        "from pyspark.sql import Row\n",
        "from pyspark.sql.types import IntegerType\n",
        "from pyspark.sql.types import DoubleType\n",
        "\n",
        "prob_ppv_df = spark.createDataFrame(df)\n",
        "\n",
        "prob_ppv_df = prob_ppv_df.withColumn(\"userId\", prob_ppv_df[\"userId\"].cast(IntegerType()))\n",
        "prob_ppv_df = prob_ppv_df.withColumn(\"movieId\", prob_ppv_df[\"movieId\"].cast(IntegerType()))\n",
        "prob_ppv_df = prob_ppv_df.withColumn(\"prob_ppv\", prob_ppv_df[\"prob_ppv\"].cast(DoubleType()))\n",
        "\n",
        "#spark_train_prob = spark.createDataFrame(train_set_pv)\n",
        "\n",
        "als = ALS(maxIter=5, regParam=0.01, userCol=\"userId\", itemCol=\"movieId\", ratingCol=\"prob_ppv\",\n",
        "          coldStartStrategy=\"drop\")\n",
        "model = als.fit(prob_ppv_df)\n",
        "prob_ppvRecs = model.recommendForAllUsers(n_recommended)\n",
        "\"\"\""
      ],
      "execution_count": 0,
      "outputs": [
        {
          "output_type": "execute_result",
          "data": {
            "text/plain": [
              "'\\n# took 14s\\nfrom pyspark.ml.evaluation import RegressionEvaluator\\nfrom pyspark.ml.recommendation import ALS\\nfrom pyspark.sql import Row\\nfrom pyspark.sql.types import IntegerType\\nfrom pyspark.sql.types import DoubleType\\n\\nprob_ppv_df = spark.createDataFrame(df)\\n\\nprob_ppv_df = prob_ppv_df.withColumn(\"userId\", prob_ppv_df[\"userId\"].cast(IntegerType()))\\nprob_ppv_df = prob_ppv_df.withColumn(\"movieId\", prob_ppv_df[\"movieId\"].cast(IntegerType()))\\nprob_ppv_df = prob_ppv_df.withColumn(\"prob_ppv\", prob_ppv_df[\"prob_ppv\"].cast(DoubleType()))\\n\\n#spark_train_prob = spark.createDataFrame(train_set_pv)\\n\\nals = ALS(maxIter=5, regParam=0.01, userCol=\"userId\", itemCol=\"movieId\", ratingCol=\"prob_ppv\",\\n          coldStartStrategy=\"drop\")\\nmodel = als.fit(prob_ppv_df)\\nprob_ppvRecs = model.recommendForAllUsers(n_recommended)\\n'"
            ]
          },
          "metadata": {
            "tags": []
          },
          "execution_count": 35
        }
      ]
    },
    {
      "cell_type": "code",
      "metadata": {
        "id": "aiZ-KzIXL6od",
        "colab_type": "code",
        "outputId": "337b8a9e-8342-47f5-9e56-60e8d85543e6",
        "colab": {
          "base_uri": "https://localhost:8080/",
          "height": 34
        }
      },
      "source": [
        "\"\"\"\n",
        "print('Evaluating using the user bias correction...')\n",
        "evaluate(prob_ppvRecs)\n",
        "print('\\n\\n\\n\\n\\n\\n')\n",
        "\"\"\""
      ],
      "execution_count": 0,
      "outputs": [
        {
          "output_type": "execute_result",
          "data": {
            "text/plain": [
              "\"\\nprint('Evaluating using the user bias correction...')\\nevaluate(prob_ppvRecs)\\nprint('\\n\\n\\n\\n\\n\\n')\\n\""
            ]
          },
          "metadata": {
            "tags": []
          },
          "execution_count": 36
        }
      ]
    },
    {
      "cell_type": "markdown",
      "metadata": {
        "id": "h67J79q8jiJV",
        "colab_type": "text"
      },
      "source": [
        "**Splitting based on timestamps Reference**\n"
      ]
    },
    {
      "cell_type": "code",
      "metadata": {
        "id": "WXPNrJUTjqjb",
        "colab_type": "code",
        "outputId": "e4395f9e-51ec-4919-a0d4-06d35853b75c",
        "colab": {
          "base_uri": "https://localhost:8080/",
          "height": 275
        }
      },
      "source": [
        "import math\n",
        "min_ppv=final_df['ppv'].min()\n",
        "max_ppv=final_df['ppv'].max()\n",
        "\n",
        "#Doing train-test split based on timestamp\n",
        "split = math.floor(final_df.timestamp.quantile(q=.8))\n",
        "train_set_pv = final_df[final_df['timestamp']<split]\n",
        "test_sett = final_df[final_df['timestamp']>=split]\n",
        "train_set_ppv = train_set_pv[train_set_pv['ppv'] >= 0]\n",
        "\n",
        "#Chaning the dataframe into userId, movieId, rating (PPV) format to send it as input to Surprise libraries data structure\n",
        "fin=final_df[['userId', 'movieId', 'ppv']].copy()\n",
        "train_set_pv1=train_set_pv[['userId', 'movieId', 'ppv']].copy()\n",
        "train_set_ppv1=train_set_ppv[['userId', 'movieId', 'ppv']].copy()\n",
        "test_set1=test_sett[['userId', 'movieId', 'ppv']].copy()\n",
        "\n",
        "# For the Case of Positive PVs (PPVs)\n",
        "\n",
        "import pandas as pd\n",
        "from surprise import KNNBasic\n",
        "from surprise import Dataset\n",
        "from surprise import Reader\n",
        "\n",
        "ppv_train_data = Dataset.load_from_df(train_set_ppv1, reader)\n",
        "\n",
        "ppv_trainset = ppv_train_data.build_full_trainset()\n",
        "\n",
        "similarity_options = {'name': 'cosine',\n",
        "               'user_based': False \n",
        "               }\n",
        "\n",
        "Knnobject = KNNBasic(k=100, min_k=5, sim_options=similarity_options, verbose=True)\n",
        "\n",
        "Knnobject.fit(ppv_trainset)\n",
        "\n",
        "pv_train_data = Dataset.load_from_df(train_set_pv1, reader)\n",
        "data=Dataset.load_from_df(fin,reader)\n",
        "\n",
        "pv_trainset = data.construct_trainset(pv_train_data.raw_ratings)\n",
        "\n",
        "similarity_options = {'name': 'cosine',\n",
        "               'user_based': False \n",
        "               }\n",
        "\n",
        "Knnobject1 = KNNBasic(k=100, min_k=5, sim_options=similarity_options, verbose=True)\n",
        "\n",
        "Knnobject1.fit(pv_trainset)\n",
        "\n",
        "data=Dataset.load_from_df(fin,reader)\n",
        "test_set_data = Dataset.load_from_df(test_set1, reader)\n",
        "test_set_1=data.construct_testset(test_set_data.raw_ratings)\n",
        "predictions1 = Knnobject.test(test_set_1)\n",
        "\n",
        "predictions1[:10]"
      ],
      "execution_count": 0,
      "outputs": [
        {
          "output_type": "stream",
          "text": [
            "Computing the cosine similarity matrix...\n",
            "Done computing similarity matrix.\n",
            "Computing the cosine similarity matrix...\n",
            "Done computing similarity matrix.\n"
          ],
          "name": "stdout"
        },
        {
          "output_type": "execute_result",
          "data": {
            "text/plain": [
              "[Prediction(uid=1673, iid=70946, r_ui=2.981981981981982, est=1.9218454464207229, details={'was_impossible': True, 'reason': 'User and/or item is unkown.'}),\n",
              " Prediction(uid=7249, iid=50189, r_ui=2.4463452566096424, est=1.9218454464207229, details={'was_impossible': True, 'reason': 'User and/or item is unkown.'}),\n",
              " Prediction(uid=7249, iid=59429, r_ui=2.431972789115646, est=1.9218454464207229, details={'was_impossible': True, 'reason': 'User and/or item is unkown.'}),\n",
              " Prediction(uid=14178, iid=63992, r_ui=2.25347866419295, est=1.9218454464207229, details={'was_impossible': True, 'reason': 'User and/or item is unkown.'}),\n",
              " Prediction(uid=14178, iid=72407, r_ui=2.434361233480176, est=1.9218454464207229, details={'was_impossible': True, 'reason': 'User and/or item is unkown.'}),\n",
              " Prediction(uid=14178, iid=78772, r_ui=2.329185520361991, est=1.9218454464207229, details={'was_impossible': True, 'reason': 'User and/or item is unkown.'}),\n",
              " Prediction(uid=14178, iid=91104, r_ui=2.5271317829457365, est=1.9218454464207229, details={'was_impossible': True, 'reason': 'User and/or item is unkown.'}),\n",
              " Prediction(uid=14178, iid=98203, r_ui=2.3161290322580643, est=1.9218454464207229, details={'was_impossible': True, 'reason': 'User and/or item is unkown.'}),\n",
              " Prediction(uid=14478, iid=70334, r_ui=1.1236263736263736, est=1.9218454464207229, details={'was_impossible': True, 'reason': 'User and/or item is unkown.'}),\n",
              " Prediction(uid=16533, iid=43558, r_ui=2.2336065573770494, est=1.9218454464207229, details={'was_impossible': True, 'reason': 'User and/or item is unkown.'})]"
            ]
          },
          "metadata": {
            "tags": []
          },
          "execution_count": 16
        }
      ]
    },
    {
      "cell_type": "markdown",
      "metadata": {
        "id": "bn5SFYcZjuq6",
        "colab_type": "text"
      },
      "source": [
        " As we can see from the above output that \"was impossible\" was marked as 'True' showing that most of the users or the items from the test set were absent in the training set. To such data the library gives a defualt rating of the mean of all the ratings in the dataset. Thus causing wrong recommendations. "
      ]
    },
    {
      "cell_type": "markdown",
      "metadata": {
        "id": "OUVWg-JgnFwv",
        "colab_type": "text"
      },
      "source": [
        "## **Results For n = 7 (a.k.a. 7% or .07) Subset Of Users and Movies**"
      ]
    },
    {
      "cell_type": "markdown",
      "metadata": {
        "id": "ad7EW4Y8mU8F",
        "colab_type": "text"
      },
      "source": [
        "![alt text](https://drive.google.com/uc?id=1kwes7tPOZwCmOWbhCTzFtGVxccuZrQUp)\n",
        "\n"
      ]
    },
    {
      "cell_type": "markdown",
      "metadata": {
        "id": "nQm1hFSvmlxw",
        "colab_type": "text"
      },
      "source": [
        "![alt text](https://drive.google.com/uc?id=1E-4oHrerM2xhSAwJR2bwYPTYMb0ogKHj)"
      ]
    },
    {
      "cell_type": "markdown",
      "metadata": {
        "id": "CvHjKqsEmwEN",
        "colab_type": "text"
      },
      "source": [
        "![alt text](https://drive.google.com/uc?id=170F3dDMuPTZ_QxunTIGfFQUOuxjWI30W)"
      ]
    }
  ]
}